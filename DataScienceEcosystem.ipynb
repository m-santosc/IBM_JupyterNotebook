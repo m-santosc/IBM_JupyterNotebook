{
 "cells": [
  {
   "cell_type": "markdown",
   "id": "56028049-fa73-4569-aace-7e45ba7734da",
   "metadata": {},
   "source": [
    "# Data Science Tools and Ecosystem"
   ]
  },
  {
   "cell_type": "markdown",
   "id": "f59b3306-4adc-4051-b000-b040fbaadf20",
   "metadata": {},
   "source": [
    "In this notebook, Data Science Tools and Ecosystem are summarized."
   ]
  },
  {
   "cell_type": "markdown",
   "id": "9bab048f-5ca8-4df0-a5c8-593ffefd505d",
   "metadata": {},
   "source": [
    "Some of the popular languages that Data Scientists use are:\n",
    "1. Python\n",
    "2. R\n",
    "3. SQL\n",
    "4. Java\n",
    "5. JavaScript\n",
    "6. Julia\n",
    "7. Scala\n",
    "8. C++"
   ]
  },
  {
   "cell_type": "markdown",
   "id": "76e97367-d503-4ab5-84f4-9043c74106af",
   "metadata": {},
   "source": [
    "Some of the commonly used libraries used by Data Scientists include:\n",
    "1. TensorFlow\n",
    "2. NumPy\n",
    "3. SciPy\n",
    "4. Pandas\n",
    "5. Matplotlib\n",
    "6. Keras\n",
    "7. SciKit-Learn\n",
    "8. PyTorch"
   ]
  },
  {
   "cell_type": "markdown",
   "id": "dfc01c32-5d64-419f-91e7-5299a891fe64",
   "metadata": {},
   "source": [
    "| Data Science Tools |\n",
    "| ------------------ |\n",
    "| Jupyter Notebook |\n",
    "| PyCharm |\n",
    "| Spyder |"
   ]
  },
  {
   "cell_type": "markdown",
   "id": "002c5ab4-dde1-45a9-b731-ebfe60ea8af1",
   "metadata": {},
   "source": [
    "### Below are a few examples of evaluating arithmetic expressions in Python\n",
    "\n",
    "5y + 3\n",
    "\n",
    "2xy - 5y + 3\n",
    "\n",
    "3y * 4"
   ]
  },
  {
   "cell_type": "markdown",
   "id": "119286b2-95f7-486c-8407-fc1c4daa945d",
   "metadata": {},
   "source": [
    "This a simple arithmetic expression to mutiply then add integers"
   ]
  },
  {
   "cell_type": "code",
   "execution_count": 9,
   "id": "a4ee82a2-fb37-492e-b447-011465b6f1d0",
   "metadata": {
    "tags": []
   },
   "outputs": [
    {
     "data": {
      "text/plain": [
       "17"
      ]
     },
     "execution_count": 9,
     "metadata": {},
     "output_type": "execute_result"
    }
   ],
   "source": [
    "(3*4)+5"
   ]
  },
  {
   "cell_type": "markdown",
   "id": "6b461f36-d628-4b70-96c5-289a417e459a",
   "metadata": {},
   "source": [
    "This will convert 200 minutes to hours by diving by 60"
   ]
  },
  {
   "cell_type": "code",
   "execution_count": 12,
   "id": "89a53378-7f82-400f-8536-f3a030d304be",
   "metadata": {
    "tags": []
   },
   "outputs": [
    {
     "name": "stdout",
     "output_type": "stream",
     "text": [
      "0 days, 3.3333333333333335 hours, 0 mins. \n"
     ]
    }
   ],
   "source": [
    "days = 0\n",
    "hours = 0\n",
    "mins = 0\n",
    "\n",
    "time = 200\n",
    "\n",
    "leftover_minutes = time % 1440\n",
    "hours = leftover_minutes / 60\n",
    "\n",
    "print(str(days) + \" days, \" + str(hours) + \" hours, \" + str(mins) +  \" mins. \")"
   ]
  },
  {
   "cell_type": "markdown",
   "id": "e095decb-23bf-48e2-84be-563789029dd4",
   "metadata": {},
   "source": [
    "__Objectives:__\n",
    "* List popular languages for Data Science.\n",
    "* List commonly used libraries by Data Scientists\n",
    "* Indicate development enviornment open source tools used in Data Science"
   ]
  },
  {
   "cell_type": "markdown",
   "id": "cf35519d-b48d-4a6d-b57f-c98dbab0e933",
   "metadata": {},
   "source": [
    "## Author\n",
    "\n",
    "Mariana Santos Cordeiro"
   ]
  },
  {
   "cell_type": "code",
   "execution_count": null,
   "id": "d8f7636f-eddb-4e63-87cd-ef2e835d04d0",
   "metadata": {},
   "outputs": [],
   "source": []
  }
 ],
 "metadata": {
  "kernelspec": {
   "display_name": "Python",
   "language": "python",
   "name": "conda-env-python-py"
  },
  "language_info": {
   "codemirror_mode": {
    "name": "ipython",
    "version": 3
   },
   "file_extension": ".py",
   "mimetype": "text/x-python",
   "name": "python",
   "nbconvert_exporter": "python",
   "pygments_lexer": "ipython3",
   "version": "3.7.12"
  }
 },
 "nbformat": 4,
 "nbformat_minor": 5
}
